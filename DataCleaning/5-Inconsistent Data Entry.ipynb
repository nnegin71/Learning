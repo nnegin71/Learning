{
 "cells": [
  {
   "cell_type": "code",
   "execution_count": 37,
   "id": "245b4929-fbca-4c83-bdd6-06af67a9290b",
   "metadata": {},
   "outputs": [
    {
     "name": "stderr",
     "output_type": "stream",
     "text": [
      "/Library/Frameworks/Python.framework/Versions/3.10/lib/python3.10/site-packages/fuzzywuzzy/fuzz.py:11: UserWarning: Using slow pure-python SequenceMatcher. Install python-Levenshtein to remove this warning\n",
      "  warnings.warn('Using slow pure-python SequenceMatcher. Install python-Levenshtein to remove this warning')\n"
     ]
    }
   ],
   "source": [
    "import numpy as np\n",
    "import pandas as pd\n",
    "\n",
    "#encoding module\n",
    "import charset_normalizer\n",
    "\n",
    "#plotting\n",
    "import seaborn as sns\n",
    "import matplotlib.pyplot as plt\n",
    "\n",
    "#\n",
    "import fuzzywuzzy\n",
    "from fuzzywuzzy import process\n",
    "\n",
    "np.random.seed(0)"
   ]
  },
  {
   "cell_type": "code",
   "execution_count": 36,
   "id": "571aaf6f-f677-40aa-ad80-d7614cd0666e",
   "metadata": {},
   "outputs": [],
   "source": [
    "#read data\n",
    "Professors = pd.read_csv('./pakistan_intellectual_capital.csv',encoding='utf-8')"
   ]
  },
  {
   "cell_type": "code",
   "execution_count": 20,
   "id": "98a56de5-dd87-4198-b22d-16def6512038",
   "metadata": {},
   "outputs": [
    {
     "data": {
      "text/html": [
       "<div>\n",
       "<style scoped>\n",
       "    .dataframe tbody tr th:only-of-type {\n",
       "        vertical-align: middle;\n",
       "    }\n",
       "\n",
       "    .dataframe tbody tr th {\n",
       "        vertical-align: top;\n",
       "    }\n",
       "\n",
       "    .dataframe thead th {\n",
       "        text-align: right;\n",
       "    }\n",
       "</style>\n",
       "<table border=\"1\" class=\"dataframe\">\n",
       "  <thead>\n",
       "    <tr style=\"text-align: right;\">\n",
       "      <th></th>\n",
       "      <th>Unnamed: 0</th>\n",
       "      <th>S#</th>\n",
       "      <th>Teacher Name</th>\n",
       "      <th>University Currently Teaching</th>\n",
       "      <th>Department</th>\n",
       "      <th>Province University Located</th>\n",
       "      <th>Designation</th>\n",
       "      <th>Terminal Degree</th>\n",
       "      <th>Graduated from</th>\n",
       "      <th>Country</th>\n",
       "      <th>Year</th>\n",
       "      <th>Area of Specialization/Research Interests</th>\n",
       "      <th>Other Information</th>\n",
       "    </tr>\n",
       "  </thead>\n",
       "  <tbody>\n",
       "    <tr>\n",
       "      <th>0</th>\n",
       "      <td>2</td>\n",
       "      <td>3</td>\n",
       "      <td>Dr. Abdul Basit</td>\n",
       "      <td>University of Balochistan</td>\n",
       "      <td>Computer Science &amp; IT</td>\n",
       "      <td>Balochistan</td>\n",
       "      <td>Assistant Professor</td>\n",
       "      <td>PhD</td>\n",
       "      <td>Asian Institute of Technology</td>\n",
       "      <td>Thailand</td>\n",
       "      <td>NaN</td>\n",
       "      <td>Software Engineering &amp; DBMS</td>\n",
       "      <td>NaN</td>\n",
       "    </tr>\n",
       "    <tr>\n",
       "      <th>1</th>\n",
       "      <td>4</td>\n",
       "      <td>5</td>\n",
       "      <td>Dr. Waheed Noor</td>\n",
       "      <td>University of Balochistan</td>\n",
       "      <td>Computer Science &amp; IT</td>\n",
       "      <td>Balochistan</td>\n",
       "      <td>Assistant Professor</td>\n",
       "      <td>PhD</td>\n",
       "      <td>Asian Institute of Technology</td>\n",
       "      <td>Thailand</td>\n",
       "      <td>NaN</td>\n",
       "      <td>DBMS</td>\n",
       "      <td>NaN</td>\n",
       "    </tr>\n",
       "    <tr>\n",
       "      <th>2</th>\n",
       "      <td>5</td>\n",
       "      <td>6</td>\n",
       "      <td>Dr. Junaid Baber</td>\n",
       "      <td>University of Balochistan</td>\n",
       "      <td>Computer Science &amp; IT</td>\n",
       "      <td>Balochistan</td>\n",
       "      <td>Assistant Professor</td>\n",
       "      <td>PhD</td>\n",
       "      <td>Asian Institute of Technology</td>\n",
       "      <td>Thailand</td>\n",
       "      <td>NaN</td>\n",
       "      <td>Information processing, Multimedia mining</td>\n",
       "      <td>NaN</td>\n",
       "    </tr>\n",
       "    <tr>\n",
       "      <th>3</th>\n",
       "      <td>6</td>\n",
       "      <td>7</td>\n",
       "      <td>Dr. Maheen Bakhtyar</td>\n",
       "      <td>University of Balochistan</td>\n",
       "      <td>Computer Science &amp; IT</td>\n",
       "      <td>Balochistan</td>\n",
       "      <td>Assistant Professor</td>\n",
       "      <td>PhD</td>\n",
       "      <td>Asian Institute of Technology</td>\n",
       "      <td>Thailand</td>\n",
       "      <td>NaN</td>\n",
       "      <td>NLP, Information Retrieval, Question Answering...</td>\n",
       "      <td>NaN</td>\n",
       "    </tr>\n",
       "    <tr>\n",
       "      <th>4</th>\n",
       "      <td>24</td>\n",
       "      <td>25</td>\n",
       "      <td>Samina Azim</td>\n",
       "      <td>Sardar Bahadur Khan Women's University</td>\n",
       "      <td>Computer Science</td>\n",
       "      <td>Balochistan</td>\n",
       "      <td>Lecturer</td>\n",
       "      <td>BS</td>\n",
       "      <td>Balochistan University of Information Technolo...</td>\n",
       "      <td>Pakistan</td>\n",
       "      <td>2005.0</td>\n",
       "      <td>VLSI Electronics DLD Database</td>\n",
       "      <td>NaN</td>\n",
       "    </tr>\n",
       "  </tbody>\n",
       "</table>\n",
       "</div>"
      ],
      "text/plain": [
       "   Unnamed: 0  S#         Teacher Name  \\\n",
       "0           2   3      Dr. Abdul Basit   \n",
       "1           4   5      Dr. Waheed Noor   \n",
       "2           5   6     Dr. Junaid Baber   \n",
       "3           6   7  Dr. Maheen Bakhtyar   \n",
       "4          24  25          Samina Azim   \n",
       "\n",
       "            University Currently Teaching             Department  \\\n",
       "0               University of Balochistan  Computer Science & IT   \n",
       "1               University of Balochistan  Computer Science & IT   \n",
       "2               University of Balochistan  Computer Science & IT   \n",
       "3               University of Balochistan  Computer Science & IT   \n",
       "4  Sardar Bahadur Khan Women's University       Computer Science   \n",
       "\n",
       "  Province University Located          Designation Terminal Degree  \\\n",
       "0                 Balochistan  Assistant Professor             PhD   \n",
       "1                 Balochistan  Assistant Professor             PhD   \n",
       "2                 Balochistan  Assistant Professor             PhD   \n",
       "3                 Balochistan  Assistant Professor             PhD   \n",
       "4                 Balochistan             Lecturer              BS   \n",
       "\n",
       "                                      Graduated from   Country    Year  \\\n",
       "0                      Asian Institute of Technology  Thailand     NaN   \n",
       "1                      Asian Institute of Technology  Thailand     NaN   \n",
       "2                      Asian Institute of Technology  Thailand     NaN   \n",
       "3                      Asian Institute of Technology  Thailand     NaN   \n",
       "4  Balochistan University of Information Technolo...  Pakistan  2005.0   \n",
       "\n",
       "           Area of Specialization/Research Interests Other Information  \n",
       "0                        Software Engineering & DBMS               NaN  \n",
       "1                                               DBMS               NaN  \n",
       "2          Information processing, Multimedia mining               NaN  \n",
       "3  NLP, Information Retrieval, Question Answering...               NaN  \n",
       "4                      VLSI Electronics DLD Database               NaN  "
      ]
     },
     "execution_count": 20,
     "metadata": {},
     "output_type": "execute_result"
    }
   ],
   "source": [
    "Professors.head()"
   ]
  },
  {
   "cell_type": "code",
   "execution_count": 26,
   "id": "bf4460b2-538a-4af7-b37e-0c4854e015df",
   "metadata": {},
   "outputs": [
    {
     "name": "stdout",
     "output_type": "stream",
     "text": [
      "[' Germany' ' New Zealand' ' Sweden' ' USA' 'Australia' 'Austria' 'Canada'\n",
      " 'China' 'Finland' 'France' 'Greece' 'HongKong' 'Ireland' 'Italy' 'Japan'\n",
      " 'Macau' 'Malaysia' 'Mauritius' 'Netherland' 'New Zealand' 'Norway'\n",
      " 'Pakistan' 'Portugal' 'Russian Federation' 'Saudi Arabia' 'Scotland'\n",
      " 'Singapore' 'South Korea' 'SouthKorea' 'Spain' 'Sweden' 'Thailand'\n",
      " 'Turkey' 'UK' 'USA' 'USofA' 'Urbana' 'germany']\n"
     ]
    }
   ],
   "source": [
    "Countries = Professors['Country'].unique()\n",
    "Countries.sort()\n",
    "print(Countries)"
   ]
  },
  {
   "cell_type": "markdown",
   "id": "3a2e1ec5-f5f9-433e-ba9b-4694c8c1d02a",
   "metadata": {},
   "source": [
    "#### Inconsistencies:\n",
    "Same country name: Germany/germany  -  Extra spaces at the begining and end of country names - Extra space in the middle of the name (southKorea vs south korea)"
   ]
  },
  {
   "cell_type": "code",
   "execution_count": 30,
   "id": "170335f7-c7c8-467b-981b-49c793611a1d",
   "metadata": {},
   "outputs": [],
   "source": [
    "## What we can do:\n",
    "# Make are letters lower case\n",
    "Professors['Country'] = Professors['Country'].str.lower()\n",
    "# Remove the trailing white spaces\n",
    "Professors['Country'] = Professors['Country'].str.strip()"
   ]
  },
  {
   "cell_type": "code",
   "execution_count": 32,
   "id": "6f5671af-8fc9-4852-b552-5839d990301d",
   "metadata": {},
   "outputs": [
    {
     "name": "stdout",
     "output_type": "stream",
     "text": [
      "['thailand' 'pakistan' 'germany' 'austria' 'australia' 'uk' 'china'\n",
      " 'france' 'usofa' 'southkorea' 'malaysia' 'sweden' 'italy' 'canada'\n",
      " 'norway' 'ireland' 'new zealand' 'urbana' 'portugal' 'russian federation'\n",
      " 'usa' 'finland' 'netherland' 'greece' 'turkey' 'south korea' 'macau'\n",
      " 'singapore' 'spain' 'japan' 'hongkong' 'saudi arabia' 'mauritius'\n",
      " 'scotland']\n"
     ]
    }
   ],
   "source": [
    "print(Professors['Country'].unique())"
   ]
  },
  {
   "cell_type": "markdown",
   "id": "c160e4d7-85fa-4e11-a298-d8cc17cef1fe",
   "metadata": {},
   "source": [
    "## fuzzywuzzy\n",
    "\n",
    "For small data sets we can corrcet the inconsistencies with hand. But we cannot do so for larger data sets\n",
    "\n",
    "We're going to use the fuzzywuzzy package to help identify which strings are closest to each other.\n",
    "\n",
    "Fuzzy matching: The process of automatically finding text strings that are very similar to the target string. In general, a string is considered \"closer\" to another one the fewer characters you'd need to change if you were transforming one string into another. So \"apple\" and \"snapple\" are two changes away from each other (add \"s\" and \"n\") while \"in\" and \"on\" and one change away (rplace \"i\" with \"o\"). You won't always be able to rely on fuzzy matching 100%, but it will usually end up saving you at least a little time.\n",
    "\n",
    "Fuzzywuzzy returns a ratio given two strings. The closer the ratio is to 100, the smaller the edit distance between the two strings."
   ]
  },
  {
   "cell_type": "code",
   "execution_count": 40,
   "id": "e90ddb58-cecd-4630-80ad-f7a653d06264",
   "metadata": {},
   "outputs": [
    {
     "data": {
      "text/plain": [
       "[('South Korea', 100),\n",
       " ('SouthKorea', 48),\n",
       " ('Saudi Arabia', 43),\n",
       " ('Norway', 35),\n",
       " ('Ireland', 33),\n",
       " ('Portugal', 32),\n",
       " ('Singapore', 30),\n",
       " ('Netherland', 29),\n",
       " ('Macau', 25),\n",
       " ('USofA', 25)]"
      ]
     },
     "execution_count": 40,
     "metadata": {},
     "output_type": "execute_result"
    }
   ],
   "source": [
    "#Here, we're going to get the ten strings from our list of cities that have the closest distance to \"south korea\".\n",
    "matches = fuzzywuzzy.process.extract('south korea', Countries,limit=10, scorer=fuzzywuzzy.fuzz.token_sort_ratio)\n",
    "matches"
   ]
  },
  {
   "cell_type": "code",
   "execution_count": 48,
   "id": "2013c896-5687-4743-a2de-6ab7c79a62ad",
   "metadata": {},
   "outputs": [
    {
     "name": "stdout",
     "output_type": "stream",
     "text": [
      "All Done!\n",
      "All Done!\n"
     ]
    }
   ],
   "source": [
    "# Let's replace all rows in our \"Country\" column that have a ratio of > 47 with \"south korea\".\n",
    "def replace_matches_in_column(df,column, str_to_match, min_ratio=47):\n",
    "    str_column = df[column].unique()\n",
    "    matches = fuzzywuzzy.process.extract(str_to_match,str_column, limit=10, scorer=fuzzywuzzy.fuzz.token_sort_ratio)\n",
    "    #only get close matches with ratio>=miin_ratio\n",
    "    close_match = [matches[0] for matches in matches if matches[1]>=min_ratio]\n",
    "    #get the row number for close_match\n",
    "    row_close_match = df[column].isin(close_match)\n",
    "    #replace close_match strings with the str_to_match\n",
    "    df.loc[row_close_match,column] = str_to_match\n",
    "    print(\"All Done!\")\n",
    "\n",
    "replace_matches_in_column(df=Professors,column='Country',str_to_match='south korea')\n",
    "replace_matches_in_column(df=Professors,column='Country',str_to_match='New Zealand')"
   ]
  },
  {
   "cell_type": "code",
   "execution_count": 49,
   "id": "97d2d410-6545-4b84-a400-4642ccbdc0da",
   "metadata": {},
   "outputs": [
    {
     "data": {
      "text/plain": [
       "array(['New Zealand', 'Pakistan', 'germany', 'Austria', 'Australia', 'UK',\n",
       "       'China', 'France', 'USofA', 'south korea', 'Malaysia', 'Sweden',\n",
       "       'Italy', 'Canada', 'Norway', 'Urbana', 'Portugal',\n",
       "       'Russian Federation', 'USA', ' USA', ' Sweden', 'Greece', 'Turkey',\n",
       "       'Macau', 'Singapore', 'Spain', 'Japan', 'HongKong', 'Saudi Arabia',\n",
       "       'Mauritius', 'Scotland'], dtype=object)"
      ]
     },
     "execution_count": 49,
     "metadata": {},
     "output_type": "execute_result"
    }
   ],
   "source": [
    "Professors['Country'].unique()"
   ]
  },
  {
   "cell_type": "code",
   "execution_count": null,
   "id": "ac4021d0-43ca-45e2-9ebd-b708797ae326",
   "metadata": {},
   "outputs": [],
   "source": []
  }
 ],
 "metadata": {
  "kernelspec": {
   "display_name": "Python 3 (ipykernel)",
   "language": "python",
   "name": "python3"
  },
  "language_info": {
   "codemirror_mode": {
    "name": "ipython",
    "version": 3
   },
   "file_extension": ".py",
   "mimetype": "text/x-python",
   "name": "python",
   "nbconvert_exporter": "python",
   "pygments_lexer": "ipython3",
   "version": "3.10.7"
  }
 },
 "nbformat": 4,
 "nbformat_minor": 5
}
