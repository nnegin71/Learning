{
 "cells": [
  {
   "cell_type": "markdown",
   "id": "0ac537fb-0d02-4f53-887f-da19684307af",
   "metadata": {},
   "source": [
    "# Dtype \n",
    "The data type for a column in a Dataframe or series"
   ]
  },
  {
   "cell_type": "code",
   "execution_count": 1,
   "id": "20a1cd58-2199-4c6e-8910-9f355ddea58d",
   "metadata": {},
   "outputs": [],
   "source": [
    "import pandas as pd\n",
    "wine_review = pd.read_csv('./winemag-data-130k-v2.csv')"
   ]
  },
  {
   "cell_type": "code",
   "execution_count": 2,
   "id": "fd1cf25b-6c64-49fe-a4d0-5ef743d4e04e",
   "metadata": {},
   "outputs": [
    {
     "data": {
      "text/plain": [
       "dtype('float64')"
      ]
     },
     "execution_count": 2,
     "metadata": {},
     "output_type": "execute_result"
    }
   ],
   "source": [
    "wine_review.price.dtype"
   ]
  },
  {
   "cell_type": "code",
   "execution_count": 6,
   "id": "2fa9fd93-1d8d-4833-9fa1-09cec25e0f99",
   "metadata": {},
   "outputs": [
    {
     "data": {
      "text/plain": [
       "Unnamed: 0                 int64\n",
       "country                   object\n",
       "description               object\n",
       "designation               object\n",
       "points                     int64\n",
       "price                    float64\n",
       "province                  object\n",
       "region_1                  object\n",
       "region_2                  object\n",
       "taster_name               object\n",
       "taster_twitter_handle     object\n",
       "title                     object\n",
       "variety                   object\n",
       "winery                    object\n",
       "dtype: object"
      ]
     },
     "execution_count": 6,
     "metadata": {},
     "output_type": "execute_result"
    }
   ],
   "source": [
    "wine_review.dtypes"
   ]
  },
  {
   "cell_type": "code",
   "execution_count": 10,
   "id": "e935e67f-f67e-48d3-91fa-2eee25d66bba",
   "metadata": {},
   "outputs": [
    {
     "data": {
      "text/plain": [
       "dtype('O')"
      ]
     },
     "execution_count": 10,
     "metadata": {},
     "output_type": "execute_result"
    }
   ],
   "source": [
    "#Columns that own only striings do not get their own type\n",
    "wine_review.description.dtype"
   ]
  },
  {
   "cell_type": "code",
   "execution_count": 12,
   "id": "c65d9123-0e71-48dd-ade9-47be25047bf0",
   "metadata": {},
   "outputs": [
    {
     "data": {
      "text/plain": [
       "dtype('int64')"
      ]
     },
     "execution_count": 12,
     "metadata": {},
     "output_type": "execute_result"
    }
   ],
   "source": [
    "wine_review.points.dtype"
   ]
  },
  {
   "cell_type": "markdown",
   "id": "cd324054-329f-4b30-8c2e-52bd0a3b982f",
   "metadata": {},
   "source": [
    "## astype() : Convert a column from one type to another"
   ]
  },
  {
   "cell_type": "code",
   "execution_count": 13,
   "id": "38dc78ba-0609-4445-96e2-4128d20a0a7c",
   "metadata": {},
   "outputs": [
    {
     "data": {
      "text/plain": [
       "0         87.0\n",
       "1         87.0\n",
       "2         87.0\n",
       "3         87.0\n",
       "4         87.0\n",
       "          ... \n",
       "129966    90.0\n",
       "129967    90.0\n",
       "129968    90.0\n",
       "129969    90.0\n",
       "129970    90.0\n",
       "Name: points, Length: 129971, dtype: float64"
      ]
     },
     "execution_count": 13,
     "metadata": {},
     "output_type": "execute_result"
    }
   ],
   "source": [
    "wine_review.points.astype('float64')"
   ]
  },
  {
   "cell_type": "markdown",
   "id": "5ea38371-b87b-4b38-8a18-a569470d1559",
   "metadata": {},
   "source": [
    "# Missing data\n",
    "Entries with missing data : NAN (Not A Number). It has type 'float64' for technical reason"
   ]
  },
  {
   "cell_type": "markdown",
   "id": "3b792b47-80c8-475d-9e8f-0ed3f419c415",
   "metadata": {},
   "source": [
    "### isnull(), notnull()"
   ]
  },
  {
   "cell_type": "code",
   "execution_count": 14,
   "id": "93b8fad1-6393-4a56-8f0b-09959231d69c",
   "metadata": {},
   "outputs": [
    {
     "data": {
      "text/plain": [
       "0         False\n",
       "1         False\n",
       "2         False\n",
       "3         False\n",
       "4         False\n",
       "          ...  \n",
       "129966    False\n",
       "129967    False\n",
       "129968    False\n",
       "129969    False\n",
       "129970    False\n",
       "Name: points, Length: 129971, dtype: bool"
      ]
     },
     "execution_count": 14,
     "metadata": {},
     "output_type": "execute_result"
    }
   ],
   "source": [
    "wine_review.points.isnull()"
   ]
  },
  {
   "cell_type": "code",
   "execution_count": 16,
   "id": "5649dab7-673c-4182-969a-5ed57ab82278",
   "metadata": {},
   "outputs": [
    {
     "data": {
      "text/html": [
       "<div>\n",
       "<style scoped>\n",
       "    .dataframe tbody tr th:only-of-type {\n",
       "        vertical-align: middle;\n",
       "    }\n",
       "\n",
       "    .dataframe tbody tr th {\n",
       "        vertical-align: top;\n",
       "    }\n",
       "\n",
       "    .dataframe thead th {\n",
       "        text-align: right;\n",
       "    }\n",
       "</style>\n",
       "<table border=\"1\" class=\"dataframe\">\n",
       "  <thead>\n",
       "    <tr style=\"text-align: right;\">\n",
       "      <th></th>\n",
       "      <th>Unnamed: 0</th>\n",
       "      <th>country</th>\n",
       "      <th>description</th>\n",
       "      <th>designation</th>\n",
       "      <th>points</th>\n",
       "      <th>price</th>\n",
       "      <th>province</th>\n",
       "      <th>region_1</th>\n",
       "      <th>region_2</th>\n",
       "      <th>taster_name</th>\n",
       "      <th>taster_twitter_handle</th>\n",
       "      <th>title</th>\n",
       "      <th>variety</th>\n",
       "      <th>winery</th>\n",
       "    </tr>\n",
       "  </thead>\n",
       "  <tbody>\n",
       "    <tr>\n",
       "      <th>913</th>\n",
       "      <td>913</td>\n",
       "      <td>NaN</td>\n",
       "      <td>Amber in color, this wine has aromas of peach ...</td>\n",
       "      <td>Asureti Valley</td>\n",
       "      <td>87</td>\n",
       "      <td>30.0</td>\n",
       "      <td>NaN</td>\n",
       "      <td>NaN</td>\n",
       "      <td>NaN</td>\n",
       "      <td>Mike DeSimone</td>\n",
       "      <td>@worldwineguys</td>\n",
       "      <td>Gotsa Family Wines 2014 Asureti Valley Chinuri</td>\n",
       "      <td>Chinuri</td>\n",
       "      <td>Gotsa Family Wines</td>\n",
       "    </tr>\n",
       "    <tr>\n",
       "      <th>3131</th>\n",
       "      <td>3131</td>\n",
       "      <td>NaN</td>\n",
       "      <td>Soft, fruity and juicy, this is a pleasant, si...</td>\n",
       "      <td>Partager</td>\n",
       "      <td>83</td>\n",
       "      <td>NaN</td>\n",
       "      <td>NaN</td>\n",
       "      <td>NaN</td>\n",
       "      <td>NaN</td>\n",
       "      <td>Roger Voss</td>\n",
       "      <td>@vossroger</td>\n",
       "      <td>Barton &amp; Guestier NV Partager Red</td>\n",
       "      <td>Red Blend</td>\n",
       "      <td>Barton &amp; Guestier</td>\n",
       "    </tr>\n",
       "    <tr>\n",
       "      <th>4243</th>\n",
       "      <td>4243</td>\n",
       "      <td>NaN</td>\n",
       "      <td>Violet-red in color, this semisweet wine has a...</td>\n",
       "      <td>Red Naturally Semi-Sweet</td>\n",
       "      <td>88</td>\n",
       "      <td>18.0</td>\n",
       "      <td>NaN</td>\n",
       "      <td>NaN</td>\n",
       "      <td>NaN</td>\n",
       "      <td>Mike DeSimone</td>\n",
       "      <td>@worldwineguys</td>\n",
       "      <td>Kakhetia Traditional Winemaking 2012 Red Natur...</td>\n",
       "      <td>Ojaleshi</td>\n",
       "      <td>Kakhetia Traditional Winemaking</td>\n",
       "    </tr>\n",
       "    <tr>\n",
       "      <th>9509</th>\n",
       "      <td>9509</td>\n",
       "      <td>NaN</td>\n",
       "      <td>This mouthwatering blend starts with a nose of...</td>\n",
       "      <td>Theopetra Malagouzia-Assyrtiko</td>\n",
       "      <td>92</td>\n",
       "      <td>28.0</td>\n",
       "      <td>NaN</td>\n",
       "      <td>NaN</td>\n",
       "      <td>NaN</td>\n",
       "      <td>Susan Kostrzewa</td>\n",
       "      <td>@suskostrzewa</td>\n",
       "      <td>Tsililis 2015 Theopetra Malagouzia-Assyrtiko W...</td>\n",
       "      <td>White Blend</td>\n",
       "      <td>Tsililis</td>\n",
       "    </tr>\n",
       "    <tr>\n",
       "      <th>9750</th>\n",
       "      <td>9750</td>\n",
       "      <td>NaN</td>\n",
       "      <td>This orange-style wine has a cloudy yellow-gol...</td>\n",
       "      <td>Orange Nikolaevo Vineyard</td>\n",
       "      <td>89</td>\n",
       "      <td>28.0</td>\n",
       "      <td>NaN</td>\n",
       "      <td>NaN</td>\n",
       "      <td>NaN</td>\n",
       "      <td>Jeff Jenssen</td>\n",
       "      <td>@worldwineguys</td>\n",
       "      <td>Ross-idi 2015 Orange Nikolaevo Vineyard Chardo...</td>\n",
       "      <td>Chardonnay</td>\n",
       "      <td>Ross-idi</td>\n",
       "    </tr>\n",
       "    <tr>\n",
       "      <th>...</th>\n",
       "      <td>...</td>\n",
       "      <td>...</td>\n",
       "      <td>...</td>\n",
       "      <td>...</td>\n",
       "      <td>...</td>\n",
       "      <td>...</td>\n",
       "      <td>...</td>\n",
       "      <td>...</td>\n",
       "      <td>...</td>\n",
       "      <td>...</td>\n",
       "      <td>...</td>\n",
       "      <td>...</td>\n",
       "      <td>...</td>\n",
       "      <td>...</td>\n",
       "    </tr>\n",
       "    <tr>\n",
       "      <th>124176</th>\n",
       "      <td>124176</td>\n",
       "      <td>NaN</td>\n",
       "      <td>This Swiss red blend is composed of four varie...</td>\n",
       "      <td>Les Romaines</td>\n",
       "      <td>90</td>\n",
       "      <td>30.0</td>\n",
       "      <td>NaN</td>\n",
       "      <td>NaN</td>\n",
       "      <td>NaN</td>\n",
       "      <td>Jeff Jenssen</td>\n",
       "      <td>@worldwineguys</td>\n",
       "      <td>Les Frères Dutruy 2014 Les Romaines Red</td>\n",
       "      <td>Red Blend</td>\n",
       "      <td>Les Frères Dutruy</td>\n",
       "    </tr>\n",
       "    <tr>\n",
       "      <th>129407</th>\n",
       "      <td>129407</td>\n",
       "      <td>NaN</td>\n",
       "      <td>Dry spicy aromas of dusty plum and tomato add ...</td>\n",
       "      <td>Reserve</td>\n",
       "      <td>89</td>\n",
       "      <td>22.0</td>\n",
       "      <td>NaN</td>\n",
       "      <td>NaN</td>\n",
       "      <td>NaN</td>\n",
       "      <td>Michael Schachner</td>\n",
       "      <td>@wineschach</td>\n",
       "      <td>El Capricho 2015 Reserve Cabernet Sauvignon</td>\n",
       "      <td>Cabernet Sauvignon</td>\n",
       "      <td>El Capricho</td>\n",
       "    </tr>\n",
       "    <tr>\n",
       "      <th>129408</th>\n",
       "      <td>129408</td>\n",
       "      <td>NaN</td>\n",
       "      <td>El Capricho is one of Uruguay's more consisten...</td>\n",
       "      <td>Reserve</td>\n",
       "      <td>89</td>\n",
       "      <td>22.0</td>\n",
       "      <td>NaN</td>\n",
       "      <td>NaN</td>\n",
       "      <td>NaN</td>\n",
       "      <td>Michael Schachner</td>\n",
       "      <td>@wineschach</td>\n",
       "      <td>El Capricho 2015 Reserve Tempranillo</td>\n",
       "      <td>Tempranillo</td>\n",
       "      <td>El Capricho</td>\n",
       "    </tr>\n",
       "    <tr>\n",
       "      <th>129590</th>\n",
       "      <td>129590</td>\n",
       "      <td>NaN</td>\n",
       "      <td>A blend of 60% Syrah, 30% Cabernet Sauvignon a...</td>\n",
       "      <td>Shah</td>\n",
       "      <td>90</td>\n",
       "      <td>30.0</td>\n",
       "      <td>NaN</td>\n",
       "      <td>NaN</td>\n",
       "      <td>NaN</td>\n",
       "      <td>Mike DeSimone</td>\n",
       "      <td>@worldwineguys</td>\n",
       "      <td>Büyülübağ 2012 Shah Red</td>\n",
       "      <td>Red Blend</td>\n",
       "      <td>Büyülübağ</td>\n",
       "    </tr>\n",
       "    <tr>\n",
       "      <th>129900</th>\n",
       "      <td>129900</td>\n",
       "      <td>NaN</td>\n",
       "      <td>This wine offers a delightful bouquet of black...</td>\n",
       "      <td>NaN</td>\n",
       "      <td>91</td>\n",
       "      <td>32.0</td>\n",
       "      <td>NaN</td>\n",
       "      <td>NaN</td>\n",
       "      <td>NaN</td>\n",
       "      <td>Mike DeSimone</td>\n",
       "      <td>@worldwineguys</td>\n",
       "      <td>Psagot 2014 Merlot</td>\n",
       "      <td>Merlot</td>\n",
       "      <td>Psagot</td>\n",
       "    </tr>\n",
       "  </tbody>\n",
       "</table>\n",
       "<p>63 rows × 14 columns</p>\n",
       "</div>"
      ],
      "text/plain": [
       "        Unnamed: 0 country                                        description  \\\n",
       "913            913     NaN  Amber in color, this wine has aromas of peach ...   \n",
       "3131          3131     NaN  Soft, fruity and juicy, this is a pleasant, si...   \n",
       "4243          4243     NaN  Violet-red in color, this semisweet wine has a...   \n",
       "9509          9509     NaN  This mouthwatering blend starts with a nose of...   \n",
       "9750          9750     NaN  This orange-style wine has a cloudy yellow-gol...   \n",
       "...            ...     ...                                                ...   \n",
       "124176      124176     NaN  This Swiss red blend is composed of four varie...   \n",
       "129407      129407     NaN  Dry spicy aromas of dusty plum and tomato add ...   \n",
       "129408      129408     NaN  El Capricho is one of Uruguay's more consisten...   \n",
       "129590      129590     NaN  A blend of 60% Syrah, 30% Cabernet Sauvignon a...   \n",
       "129900      129900     NaN  This wine offers a delightful bouquet of black...   \n",
       "\n",
       "                           designation  points  price province region_1  \\\n",
       "913                     Asureti Valley      87   30.0      NaN      NaN   \n",
       "3131                          Partager      83    NaN      NaN      NaN   \n",
       "4243          Red Naturally Semi-Sweet      88   18.0      NaN      NaN   \n",
       "9509    Theopetra Malagouzia-Assyrtiko      92   28.0      NaN      NaN   \n",
       "9750         Orange Nikolaevo Vineyard      89   28.0      NaN      NaN   \n",
       "...                                ...     ...    ...      ...      ...   \n",
       "124176                    Les Romaines      90   30.0      NaN      NaN   \n",
       "129407                         Reserve      89   22.0      NaN      NaN   \n",
       "129408                         Reserve      89   22.0      NaN      NaN   \n",
       "129590                            Shah      90   30.0      NaN      NaN   \n",
       "129900                             NaN      91   32.0      NaN      NaN   \n",
       "\n",
       "       region_2        taster_name taster_twitter_handle  \\\n",
       "913         NaN      Mike DeSimone        @worldwineguys   \n",
       "3131        NaN         Roger Voss            @vossroger   \n",
       "4243        NaN      Mike DeSimone        @worldwineguys   \n",
       "9509        NaN    Susan Kostrzewa         @suskostrzewa   \n",
       "9750        NaN       Jeff Jenssen        @worldwineguys   \n",
       "...         ...                ...                   ...   \n",
       "124176      NaN       Jeff Jenssen        @worldwineguys   \n",
       "129407      NaN  Michael Schachner           @wineschach   \n",
       "129408      NaN  Michael Schachner           @wineschach   \n",
       "129590      NaN      Mike DeSimone        @worldwineguys   \n",
       "129900      NaN      Mike DeSimone        @worldwineguys   \n",
       "\n",
       "                                                    title             variety  \\\n",
       "913        Gotsa Family Wines 2014 Asureti Valley Chinuri             Chinuri   \n",
       "3131                    Barton & Guestier NV Partager Red           Red Blend   \n",
       "4243    Kakhetia Traditional Winemaking 2012 Red Natur...            Ojaleshi   \n",
       "9509    Tsililis 2015 Theopetra Malagouzia-Assyrtiko W...         White Blend   \n",
       "9750    Ross-idi 2015 Orange Nikolaevo Vineyard Chardo...          Chardonnay   \n",
       "...                                                   ...                 ...   \n",
       "124176            Les Frères Dutruy 2014 Les Romaines Red           Red Blend   \n",
       "129407        El Capricho 2015 Reserve Cabernet Sauvignon  Cabernet Sauvignon   \n",
       "129408               El Capricho 2015 Reserve Tempranillo         Tempranillo   \n",
       "129590                            Büyülübağ 2012 Shah Red           Red Blend   \n",
       "129900                                 Psagot 2014 Merlot              Merlot   \n",
       "\n",
       "                                 winery  \n",
       "913                  Gotsa Family Wines  \n",
       "3131                  Barton & Guestier  \n",
       "4243    Kakhetia Traditional Winemaking  \n",
       "9509                           Tsililis  \n",
       "9750                           Ross-idi  \n",
       "...                                 ...  \n",
       "124176                Les Frères Dutruy  \n",
       "129407                      El Capricho  \n",
       "129408                      El Capricho  \n",
       "129590                        Büyülübağ  \n",
       "129900                           Psagot  \n",
       "\n",
       "[63 rows x 14 columns]"
      ]
     },
     "execution_count": 16,
     "metadata": {},
     "output_type": "execute_result"
    }
   ],
   "source": [
    "wine_review[pd.isnull(wine_review.country)]"
   ]
  },
  {
   "cell_type": "markdown",
   "id": "e0058384-2d9c-4d8f-b966-1a967f5f71ab",
   "metadata": {},
   "source": [
    "### fillna() : To over-write the missed values\n"
   ]
  },
  {
   "cell_type": "code",
   "execution_count": 17,
   "id": "8ef96e10-7584-442f-983d-2a25f8122ae2",
   "metadata": {},
   "outputs": [
    {
     "data": {
      "text/plain": [
       "0         Sicily & Sardinia\n",
       "1                     Douro\n",
       "2                    Oregon\n",
       "3                  Michigan\n",
       "4                    Oregon\n",
       "                ...        \n",
       "129966                Mosel\n",
       "129967               Oregon\n",
       "129968               Alsace\n",
       "129969               Alsace\n",
       "129970               Alsace\n",
       "Name: province, Length: 129971, dtype: object"
      ]
     },
     "execution_count": 17,
     "metadata": {},
     "output_type": "execute_result"
    }
   ],
   "source": [
    "wine_review.province.fillna('unknown')"
   ]
  },
  {
   "cell_type": "markdown",
   "id": "c95462b5-e889-4998-a93b-13267eb61612",
   "metadata": {},
   "source": [
    "Back fill strategy: to fill each missed value with the nex available data\n"
   ]
  }
 ],
 "metadata": {
  "kernelspec": {
   "display_name": "Python 3 (ipykernel)",
   "language": "python",
   "name": "python3"
  },
  "language_info": {
   "codemirror_mode": {
    "name": "ipython",
    "version": 3
   },
   "file_extension": ".py",
   "mimetype": "text/x-python",
   "name": "python",
   "nbconvert_exporter": "python",
   "pygments_lexer": "ipython3",
   "version": "3.10.7"
  }
 },
 "nbformat": 4,
 "nbformat_minor": 5
}
