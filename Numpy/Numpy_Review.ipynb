{
 "cells": [
  {
   "cell_type": "code",
   "execution_count": 1,
   "id": "f3344a87-8bc2-4bd0-a5a2-81dcc128b4c2",
   "metadata": {},
   "outputs": [],
   "source": [
    "import numpy as np"
   ]
  },
  {
   "cell_type": "markdown",
   "id": "7ebd53dd-f149-4c49-9faf-9a600684ebdb",
   "metadata": {},
   "source": [
    "## Vector creation"
   ]
  },
  {
   "cell_type": "markdown",
   "id": "f427307b-cca5-418e-a13a-319d03a2ee65",
   "metadata": {},
   "source": [
    "#### Based on the shape of the array"
   ]
  },
  {
   "cell_type": "code",
   "execution_count": 3,
   "id": "bffd34bc-2d25-4c78-8f45-f022a59f500e",
   "metadata": {},
   "outputs": [
    {
     "name": "stdout",
     "output_type": "stream",
     "text": [
      "a = [0. 0. 0. 0.], a shape = (4,), a data type = float64\n"
     ]
    }
   ],
   "source": [
    "a = np.zeros(4); print(f\"a = {a}, a shape = {a.shape}, a data type = {a.dtype}\")"
   ]
  },
  {
   "cell_type": "code",
   "execution_count": 4,
   "id": "63491428-d606-464d-8d18-611da880c16b",
   "metadata": {},
   "outputs": [
    {
     "name": "stdout",
     "output_type": "stream",
     "text": [
      "a = [0. 0. 0. 0.], a shape = (4,), a data type = float64\n"
     ]
    }
   ],
   "source": [
    "a = np.zeros((4,));print(f\"a = {a}, a shape = {a.shape}, a data type = {a.dtype}\")"
   ]
  },
  {
   "cell_type": "code",
   "execution_count": 5,
   "id": "19e92bd7-0545-41cf-ac4b-c02b25b942a2",
   "metadata": {},
   "outputs": [
    {
     "name": "stdout",
     "output_type": "stream",
     "text": [
      "a = [0.05540965 0.85018351 0.51256306 0.99403639], a shape = (4,), a data type = float64\n"
     ]
    }
   ],
   "source": [
    "a = np.random.random_sample(4);print(f\"a = {a}, a shape = {a.shape}, a data type = {a.dtype}\")"
   ]
  },
  {
   "cell_type": "markdown",
   "id": "fd64af8c-0194-4cdc-96e4-a32387c2dacb",
   "metadata": {},
   "source": [
    "#### Methods that do not take shape as an input"
   ]
  },
  {
   "cell_type": "code",
   "execution_count": 11,
   "id": "c6816178-683f-4be1-8140-8fb203acfe36",
   "metadata": {},
   "outputs": [
    {
     "name": "stdout",
     "output_type": "stream",
     "text": [
      "a = [0 1 2 3], a shape = (4,), a data type = int64\n"
     ]
    }
   ],
   "source": [
    "a = np.arange(4);print(f\"a = {a}, a shape = {a.shape}, a data type = {a.dtype}\")"
   ]
  },
  {
   "cell_type": "code",
   "execution_count": 12,
   "id": "4b183c22-3d9d-4e2b-b349-4c62851a75e1",
   "metadata": {},
   "outputs": [
    {
     "name": "stdout",
     "output_type": "stream",
     "text": [
      "a = [0. 1. 2. 3.], a shape = (4,), a data type = float64\n"
     ]
    }
   ],
   "source": [
    "a = np.arange(4.);print(f\"a = {a}, a shape = {a.shape}, a data type = {a.dtype}\")"
   ]
  },
  {
   "cell_type": "code",
   "execution_count": 13,
   "id": "2b0161c1-f779-4376-8709-4e9879218498",
   "metadata": {},
   "outputs": [
    {
     "name": "stdout",
     "output_type": "stream",
     "text": [
      "a = [0.74279917 0.82716284 0.37284062 0.07386728], a shape = (4,), a data type = float64\n"
     ]
    }
   ],
   "source": [
    "a = np.random.rand(4);print(f\"a = {a}, a shape = {a.shape}, a data type = {a.dtype}\")"
   ]
  },
  {
   "cell_type": "markdown",
   "id": "27387d3a-0349-4c86-bb5f-37c91f78bf4e",
   "metadata": {},
   "source": [
    "#### Values can be specified manually"
   ]
  },
  {
   "cell_type": "code",
   "execution_count": 14,
   "id": "64e47094-1990-47dd-b303-585fca4b6369",
   "metadata": {},
   "outputs": [
    {
     "name": "stdout",
     "output_type": "stream",
     "text": [
      "a = [1.  2.  3.3 4.5], a shape = (4,), a data type = float64\n"
     ]
    }
   ],
   "source": [
    "a = np.array([1,2,3.3,4.5]);print(f\"a = {a}, a shape = {a.shape}, a data type = {a.dtype}\")"
   ]
  },
  {
   "cell_type": "markdown",
   "id": "af9fa8ae-50fe-4620-aec9-d2881a9d319e",
   "metadata": {},
   "source": [
    "## Operations"
   ]
  },
  {
   "cell_type": "markdown",
   "id": "32f42e7f-833a-4460-831d-0266abcd48e7",
   "metadata": {},
   "source": [
    "**Indexing** refering to an element of an array"
   ]
  },
  {
   "cell_type": "code",
   "execution_count": 16,
   "id": "cc80a5bb-ac89-4467-bfea-fdeb94ae07ea",
   "metadata": {},
   "outputs": [
    {
     "name": "stdout",
     "output_type": "stream",
     "text": [
      "[0 1 2 3 4 5 6 7 8 9]\n",
      "a[2] is 2, and its shape is ()\n"
     ]
    }
   ],
   "source": [
    "a = np.arange(10); print(a)\n",
    "print(f\"a[2] is {a[2]}, and its shape is {a[2].shape}\")"
   ]
  },
  {
   "cell_type": "code",
   "execution_count": 20,
   "id": "f2a7da83-81eb-4e5c-9583-016d959acba5",
   "metadata": {},
   "outputs": [
    {
     "name": "stdout",
     "output_type": "stream",
     "text": [
      "a[-1] is 9, and a[-3] is 7\n"
     ]
    }
   ],
   "source": [
    "print(f\"a[-1] is {a[-1]}, and a[-3] is {a[-3]}\")"
   ]
  },
  {
   "cell_type": "code",
   "execution_count": 24,
   "id": "bfb94277-4dd2-46aa-9189-22c69d4cbade",
   "metadata": {},
   "outputs": [
    {
     "name": "stdout",
     "output_type": "stream",
     "text": [
      "Error message: \n",
      "index 16 is out of bounds for axis 0 with size 10\n"
     ]
    }
   ],
   "source": [
    "#index must be within the range of array\n",
    "try:\n",
    "    c = a[16]\n",
    "except Exception as e:\n",
    "    print(\"Error message: \")\n",
    "    print(e)"
   ]
  },
  {
   "cell_type": "markdown",
   "id": "a9da9da9-bbac-4fe3-8021-0c44119b9c82",
   "metadata": {},
   "source": [
    "**Slicing** Get access to a portion of the array `(start:stop:step)`"
   ]
  },
  {
   "cell_type": "code",
   "execution_count": 5,
   "id": "50f1f164-03a9-4579-bffc-ebdeb07625f6",
   "metadata": {},
   "outputs": [
    {
     "name": "stdout",
     "output_type": "stream",
     "text": [
      "[0 1 2 3 4 5 6 7 8 9]\n",
      "a is [0 1 2 3 4 5 6 7 8 9], and its shape is (10,)\n",
      "a[1:4] is [1 2 3], and its shape is (3,)\n",
      "a[5:] is [5 6 7 8 9], and its shape is (5,)\n",
      "a[-2:] is [8 9], and its shape is (2,)\n",
      "a[:] is [0 1 2 3 4 5 6 7 8 9], and its shape is (10,)\n"
     ]
    }
   ],
   "source": [
    "a = np.arange(10); print(a)\n",
    "print(f\"a is {a}, and its shape is {a.shape}\")\n",
    "print(f\"a[1:4] is {a[1:4]}, and its shape is {a[1:4].shape}\")\n",
    "print(f\"a[5:] is {a[5:]}, and its shape is {a[5:].shape}\")\n",
    "print(f\"a[-2:] is {a[-2:]}, and its shape is {a[-2:].shape}\")\n",
    "print(f\"a[:] is {a[:]}, and its shape is {a[:].shape}\")"
   ]
  },
  {
   "cell_type": "markdown",
   "id": "5bc04ace-0de1-409c-828b-259be71ccf5e",
   "metadata": {},
   "source": [
    "**Single vector operation**"
   ]
  },
  {
   "cell_type": "code",
   "execution_count": 6,
   "id": "20a8bd54-8aaf-45f6-88b7-d02cda342945",
   "metadata": {},
   "outputs": [
    {
     "name": "stdout",
     "output_type": "stream",
     "text": [
      "b is -a [ 0 -1 -2 -3 -4 -5 -6 -7 -8 -9], and its shape is (10,)\n",
      "b is a.sum 45, and its shape is ()\n",
      "b is a.mean 4.5, and its shape is ()\n",
      "b is a**2 [ 0  1  4  9 16 25 36 49 64 81], and its shape is (10,)\n",
      "b is a-squared [ 0  1  4  9 16 25 36 49 64 81], and its shape is (10,) \n"
     ]
    }
   ],
   "source": [
    "b = -a ; print(f\"b is -a {-a}, and its shape is {b.shape}\")\n",
    "b = np.sum(a) ; print(f\"b is a.sum {np.sum(a)}, and its shape is {b.shape}\")\n",
    "b = np.mean(a) ; print(f\"b is a.mean {np.mean(a)}, and its shape is {b.shape}\")\n",
    "b = a**2 ; print(f\"b is a**2 {a**2}, and its shape is {b.shape}\")\n",
    "b = np.square(a); print(f\"b is a-squared {np.square(a)}, and its shape is {b.shape} \")"
   ]
  },
  {
   "cell_type": "markdown",
   "id": "e58d763f-08fa-48db-9756-d4287759b6e9",
   "metadata": {},
   "source": [
    "**Vector vector operation**"
   ]
  },
  {
   "cell_type": "code",
   "execution_count": 32,
   "id": "fe831c0b-20dc-4a35-806e-ba33c8fe6ad8",
   "metadata": {},
   "outputs": [],
   "source": [
    "a = np.array([1,2,3,4]);b = np.array([5,6,7,8])"
   ]
  },
  {
   "cell_type": "code",
   "execution_count": 33,
   "id": "6f6a2dd0-8e0a-484b-a656-f28e22a36363",
   "metadata": {},
   "outputs": [
    {
     "name": "stdout",
     "output_type": "stream",
     "text": [
      "a+b is [ 6  8 10 12], its shape is (4,)\n",
      "a.b is 70, its shape is ()\n"
     ]
    }
   ],
   "source": [
    "c = a+b ; print(f\"a+b is {c}, its shape is {c.shape}\")\n",
    "d = np.dot(a,b) ; print(f\"a.b is {d}, its shape is {d.shape}\")"
   ]
  },
  {
   "cell_type": "markdown",
   "id": "68d426e6-69cb-4bc5-b3d2-cd5fbe7e85c3",
   "metadata": {},
   "source": [
    "## Matrices"
   ]
  },
  {
   "cell_type": "code",
   "execution_count": 36,
   "id": "ae86c7b6-9b40-4f8b-bf85-2e7297e121cc",
   "metadata": {},
   "outputs": [
    {
     "name": "stdout",
     "output_type": "stream",
     "text": [
      "a shape = (1, 5), a = [[0. 0. 0. 0. 0.]]\n",
      "a shape = (2, 1), a = [[0.]\n",
      " [0.]]\n",
      "a shape = (1, 1), a = [[0.11471468]]\n"
     ]
    }
   ],
   "source": [
    "a = np.zeros((1, 5));print(f\"a shape = {a.shape}, a = {a}\")                     \n",
    "a = np.zeros((2, 1));print(f\"a shape = {a.shape}, a = {a}\") \n",
    "a = np.random.random_sample((1, 1));print(f\"a shape = {a.shape}, a = {a}\") "
   ]
  },
  {
   "cell_type": "code",
   "execution_count": 37,
   "id": "db6ee9d5-0ba3-434e-bbed-884713b1a677",
   "metadata": {},
   "outputs": [
    {
     "name": "stdout",
     "output_type": "stream",
     "text": [
      " a shape = (3, 1), np.array: a = [[5]\n",
      " [4]\n",
      " [3]]\n",
      " a shape = (3, 1), np.array: a = [[5]\n",
      " [4]\n",
      " [3]]\n"
     ]
    }
   ],
   "source": [
    "# NumPy routines which allocate memory and fill with user specified values\n",
    "a = np.array([[5], [4], [3]]);   print(f\" a shape = {a.shape}, np.array: a = {a}\")\n",
    "a = np.array([[5],   # One can also\n",
    "              [4],   # separate values\n",
    "              [3]]); #into separate rows\n",
    "print(f\" a shape = {a.shape}, np.array: a = {a}\")"
   ]
  },
  {
   "cell_type": "code",
   "execution_count": 38,
   "id": "1d931232-8264-45a6-b154-36d01456e683",
   "metadata": {},
   "outputs": [
    {
     "name": "stdout",
     "output_type": "stream",
     "text": [
      "a.shape: (3, 2), \n",
      "a= [[0 1]\n",
      " [2 3]\n",
      " [4 5]]\n"
     ]
    }
   ],
   "source": [
    "a = np.arange(6).reshape(-1, 2)   #reshape is a convenient way to create matrices\n",
    "print(f\"a.shape: {a.shape}, \\na= {a}\")"
   ]
  },
  {
   "cell_type": "code",
   "execution_count": 15,
   "id": "0df6c25b-df54-4d82-957f-2aceebf01d2a",
   "metadata": {},
   "outputs": [
    {
     "name": "stdout",
     "output_type": "stream",
     "text": [
      "matrix multiplication of\n",
      "[[1 2 3]\n",
      " [4 5 6]\n",
      " [7 8 9]] \n",
      "and \n",
      "[[2]\n",
      " [3]\n",
      " [4]]\n",
      "would be \n",
      "[[20]\n",
      " [47]\n",
      " [74]]\n"
     ]
    }
   ],
   "source": [
    "s = np.array([[1,2,3],[4,5,6],[7,8,9]])\n",
    "d = np.array([[2],[3],[4]])\n",
    "m = np.matmul(s,d)\n",
    "print(f\"matrix multiplication of\\n{s} \\nand \\n{d}\\nwould be \\n{m}\")"
   ]
  },
  {
   "cell_type": "markdown",
   "id": "ed78be57-83f1-42c9-990f-3a80552de1bd",
   "metadata": {},
   "source": [
    "## Linear Algebra"
   ]
  },
  {
   "cell_type": "code",
   "execution_count": 3,
   "id": "89d21000-f43e-484a-bd24-f33b3b9bc2f0",
   "metadata": {},
   "outputs": [
    {
     "name": "stdout",
     "output_type": "stream",
     "text": [
      "b is \n",
      " [[0 1 2]\n",
      " [3 4 5]\n",
      " [6 7 8]]\n"
     ]
    }
   ],
   "source": [
    "a = np.arange(9); b = a.reshape((-1,3))\n",
    "print(f\"b is \\n {b}\")"
   ]
  },
  {
   "cell_type": "code",
   "execution_count": 14,
   "id": "f518c220-e793-4ade-b9c0-d98291d15480",
   "metadata": {},
   "outputs": [
    {
     "name": "stdout",
     "output_type": "stream",
     "text": [
      " b_norm1 is \n",
      " [[ 3.]\n",
      " [12.]\n",
      " [21.]]\n"
     ]
    },
    {
     "data": {
      "text/plain": [
       "array([[0.        , 0.33333333, 0.66666667],\n",
       "       [0.25      , 0.33333333, 0.41666667],\n",
       "       [0.28571429, 0.33333333, 0.38095238]])"
      ]
     },
     "execution_count": 14,
     "metadata": {},
     "output_type": "execute_result"
    }
   ],
   "source": [
    "# normalizing by row\n",
    "b_norm1 = np.linalg.norm(b, ord=1,axis=1, keepdims=True)\n",
    "print(f\" b_norm1 is \\n {b_norm1}\")\n",
    "b/b_norm1"
   ]
  },
  {
   "cell_type": "code",
   "execution_count": 15,
   "id": "6d964ac3-a203-43ed-8c25-a7d45b3d9c40",
   "metadata": {},
   "outputs": [
    {
     "name": "stdout",
     "output_type": "stream",
     "text": [
      " b_norm1 is \n",
      " [ 9. 12. 15.]\n"
     ]
    },
    {
     "data": {
      "text/plain": [
       "array([[0.        , 0.08333333, 0.13333333],\n",
       "       [0.33333333, 0.33333333, 0.33333333],\n",
       "       [0.66666667, 0.58333333, 0.53333333]])"
      ]
     },
     "execution_count": 15,
     "metadata": {},
     "output_type": "execute_result"
    }
   ],
   "source": [
    "# normalizing by row\n",
    "b_norm1 = np.linalg.norm(b, ord=1,axis=0)\n",
    "print(f\" b_norm1 is \\n {b_norm1}\")\n",
    "b/b_norm1"
   ]
  },
  {
   "cell_type": "code",
   "execution_count": 16,
   "id": "4679606f-6ded-42f8-8f67-2db293eddbd2",
   "metadata": {},
   "outputs": [
    {
     "name": "stdout",
     "output_type": "stream",
     "text": [
      " b_norm2 is \n",
      " [6.70820393 8.1240384  9.64365076]\n"
     ]
    }
   ],
   "source": [
    "b_norm2 = np.linalg.norm(b, ord=2,axis=0)\n",
    "print(f\" b_norm2 is \\n {b_norm2}\")"
   ]
  },
  {
   "cell_type": "code",
   "execution_count": null,
   "id": "58c63b9e-b78f-4f25-a10c-7748dd7f438c",
   "metadata": {},
   "outputs": [],
   "source": []
  }
 ],
 "metadata": {
  "kernelspec": {
   "display_name": "Python 3 (ipykernel)",
   "language": "python",
   "name": "python3"
  },
  "language_info": {
   "codemirror_mode": {
    "name": "ipython",
    "version": 3
   },
   "file_extension": ".py",
   "mimetype": "text/x-python",
   "name": "python",
   "nbconvert_exporter": "python",
   "pygments_lexer": "ipython3",
   "version": "3.10.7"
  }
 },
 "nbformat": 4,
 "nbformat_minor": 5
}
